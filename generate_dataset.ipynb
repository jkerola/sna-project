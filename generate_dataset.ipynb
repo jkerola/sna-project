{
 "cells": [
  {
   "cell_type": "code",
   "execution_count": null,
   "metadata": {},
   "outputs": [],
   "source": [
    "import arxiv\n",
    "import numpy as np\n",
    "import pandas"
   ]
  },
  {
   "cell_type": "code",
   "execution_count": null,
   "metadata": {},
   "outputs": [],
   "source": [
    "# Download queries\n",
    "max_results = 600\n",
    "keywords = ['crisis communication', 'emergency communication', 'handling emergencies', 'disaster communication']\n",
    "titles = [f'ti:{x}' for x in keywords]\n",
    "query = ' OR '.join(titles)\n",
    "print(\"Using query\\n\", query)\n",
    "search = arxiv.Search(\n",
    "        query=query,\n",
    "        max_results=max_results,\n",
    "        sort_by = arxiv.SortCriterion.Relevance,\n",
    "        sort_order= arxiv.SortOrder.Descending\n",
    "    )"
   ]
  },
  {
   "cell_type": "code",
   "execution_count": null,
   "metadata": {},
   "outputs": [],
   "source": [
    "# Parse datapoints for pandas\n",
    "data_points = []\n",
    "for res in search.results():\n",
    "    data = {\n",
    "        'title' : res.title,\n",
    "        'date' : res.published,\n",
    "        'article_id' : res.entry_id,\n",
    "        'url' : res.pdf_url,\n",
    "        'main_topic' : res.primary_category,\n",
    "        'all_topics' : res.categories,\n",
    "        'authors' : [x.name for x in res.authors],\n",
    "    }\n",
    "    data_points.append(data)"
   ]
  },
  {
   "cell_type": "code",
   "execution_count": null,
   "metadata": {},
   "outputs": [],
   "source": [
    "print(len(data_points))\n",
    "print(data_points[0])"
   ]
  },
  {
   "cell_type": "code",
   "execution_count": null,
   "metadata": {},
   "outputs": [],
   "source": [
    "# Create pandas dataframe\n",
    "data = pandas.DataFrame(data_points)\n",
    "data['year'] = pandas.DatetimeIndex(data['date']).year\n",
    "unique_article_ids = data.article_id.unique()\n",
    "article_mapping = {art:idx for idx,art in enumerate(unique_article_ids)}\n",
    "data['article_id'] = data['article_id'].map(article_mapping)\n",
    "\n",
    "print(data)"
   ]
  },
  {
   "cell_type": "code",
   "execution_count": null,
   "metadata": {},
   "outputs": [],
   "source": [
    "# To CSV\n",
    "data.to_csv('publications.csv')"
   ]
  }
 ],
 "metadata": {
  "kernelspec": {
   "display_name": "env",
   "language": "python",
   "name": "python3"
  },
  "language_info": {
   "codemirror_mode": {
    "name": "ipython",
    "version": 3
   },
   "file_extension": ".py",
   "mimetype": "text/x-python",
   "name": "python",
   "nbconvert_exporter": "python",
   "pygments_lexer": "ipython3",
   "version": "3.10.6"
  },
  "orig_nbformat": 4
 },
 "nbformat": 4,
 "nbformat_minor": 2
}
