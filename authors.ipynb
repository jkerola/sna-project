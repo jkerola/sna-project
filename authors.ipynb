{
 "cells": [
  {
   "cell_type": "code",
   "execution_count": null,
   "metadata": {},
   "outputs": [],
   "source": [
    "import numpy as np\n",
    "import pandas\n",
    "import matplotlib.pyplot as plt\n",
    "import networkx as nx\n",
    "import arxiv"
   ]
  },
  {
   "cell_type": "code",
   "execution_count": null,
   "metadata": {},
   "outputs": [],
   "source": [
    "# Load data\n",
    "data = pandas.read_csv('publications.csv')"
   ]
  },
  {
   "cell_type": "code",
   "execution_count": null,
   "metadata": {},
   "outputs": [],
   "source": [
    "# Parse unique authors\n",
    "import ast \n",
    "authors = data['authors']\n",
    "authors = [ast.literal_eval(x) for x in authors.values]\n",
    "unique = set()\n",
    "for author_list in authors:\n",
    "    for author in author_list:\n",
    "        unique.add(author)\n",
    "print(\"Found\", len(unique), 'unique authors')"
   ]
  },
  {
   "cell_type": "code",
   "execution_count": null,
   "metadata": {},
   "outputs": [],
   "source": [
    "%%script false --no-raise-error\n",
    "import requests\n",
    "import json\n",
    "import time\n",
    "authors = []\n",
    "baseUrl = \"https://inspirehep.net/api/authors?q=\"\n",
    "count = 0\n",
    "for author in list(unique):\n",
    "    count +=1\n",
    "    author_names = author.split(' ')\n",
    "    author_names.reverse()\n",
    "    author_name = ','.join(author_names)\n",
    "    url = baseUrl + author_name\n",
    "    response = requests.get(url).json()\n",
    "    try:\n",
    "        hits = response[\"hits\"][\"hits\"]\n",
    "        for hit in hits:\n",
    "            result_name = ' '.join(hit['metadata']['name']['value'].split(','))\n",
    "            if result_name == author_name:\n",
    "                org = hit['metadata']['positions'][0]['institution']\n",
    "                if org:\n",
    "                    authors.append({'author': author, 'org': org})\n",
    "        if count % 15 == 0:\n",
    "            time.sleep(5.1)\n",
    "            print(authors)\n",
    "    except KeyError:\n",
    "        continue\n",
    "print(authors)\n",
    "# No authors to save :/"
   ]
  },
  {
   "cell_type": "code",
   "execution_count": null,
   "metadata": {},
   "outputs": [],
   "source": [
    "# Option 2: generate network based on cooperation\n",
    "\n",
    "coop = {}\n",
    "for author in unique:\n",
    "    coop[author] = {}\n",
    "\n",
    "for author_list in authors:\n",
    "    for cooperator in author_list:\n",
    "        for coop2 in author_list:\n",
    "            if cooperator != coop2:\n",
    "                if coop2 not in coop[cooperator].keys():\n",
    "                    coop[cooperator][coop2] = 1\n",
    "                else:\n",
    "                    coop[cooperator][coop2] += 1"
   ]
  },
  {
   "cell_type": "code",
   "execution_count": null,
   "metadata": {},
   "outputs": [],
   "source": [
    "# normalize values\n",
    "max_val = 0\n",
    "for author, coops in coop.items():\n",
    "    for cooperator, number in coops.items():\n",
    "        if number > max_val:\n",
    "            max_val = number\n",
    "\n",
    "for author, coops in coop.items():\n",
    "    for cooperator, number in coops.items():\n",
    "        coop[author][cooperator] = (number) / (max_val)\n"
   ]
  },
  {
   "cell_type": "code",
   "execution_count": null,
   "metadata": {},
   "outputs": [],
   "source": [
    "# Generate tuples\n",
    "tuples = []\n",
    "for node, val in coop.items():\n",
    "    for node2, weight in val.items():\n",
    "        tuple = (node, node2, weight)\n",
    "        tuples.append(tuple)\n",
    "# Create graph\n",
    "graph = nx.Graph()\n",
    "graph.add_nodes_from(coop.keys())\n",
    "graph.add_weighted_edges_from(tuples)"
   ]
  },
  {
   "cell_type": "code",
   "execution_count": null,
   "metadata": {},
   "outputs": [],
   "source": [
    "# Print key characteristics\n",
    "__length = len(graph.nodes)\n",
    "__connected = [x for x in nx.connected.connected_components(graph)]\n",
    "print(graph)\n",
    "print('Degree centrality {:.2f}'.format(sum(nx.degree_centrality(graph).values()) / __length))\n",
    "print('Closeness {:.2f}'.format(sum(nx.closeness_centrality(graph).values()) / __length))\n",
    "print('Betweenness {:.2f}'.format(sum(nx.betweenness_centrality(graph).values()) / __length))\n",
    "print('Clustering coefficient {:.2f}'.format( sum(nx.clustering(graph).values()) / __length))\n",
    "print('Connected components', len(__connected))\n",
    "# diameter, pathlength, clustering coefficient, connected components"
   ]
  },
  {
   "cell_type": "code",
   "execution_count": null,
   "metadata": {},
   "outputs": [],
   "source": [
    "# Draw graph\n",
    "pos = nx.kamada_kawai_layout(graph, scale=10)\n",
    "nx.draw(graph, pos=pos, with_labels=False)"
   ]
  },
  {
   "cell_type": "code",
   "execution_count": null,
   "metadata": {},
   "outputs": [],
   "source": [
    "# Generate communities\n",
    "import itertools\n",
    "comp = nx.community.girvan_newman(graph)\n",
    "limited = itertools.takewhile(lambda x: len(x) <= 100, comp)\n",
    "communities = [ list(x) for x in next(comp)]\n",
    "singles = []\n",
    "multis = []\n",
    "for com in communities:\n",
    "    if len(com) == 1:\n",
    "        singles.append(com[0])\n",
    "    else:\n",
    "        multis.append(com)\n",
    "print('Singles', len(singles), ', Multis', len(multis))\n",
    "d = [len(x) for x in multis]\n",
    "print(max(d), min(d))"
   ]
  },
  {
   "cell_type": "code",
   "execution_count": null,
   "metadata": {},
   "outputs": [],
   "source": [
    "import random\n",
    "color_map = []\n",
    "for node in graph:\n",
    "    if node in singles:\n",
    "        color_map.append('gray')\n",
    "    else:\n",
    "        for i, m in enumerate(multis):\n",
    "            if node in m:\n",
    "                n  = i / 178\n",
    "                color = [len(m) / 30, n , n]\n",
    "                color_map.append(color)\n",
    "nx.draw(graph, node_color=color_map, pos=nx.kamada_kawai_layout(graph), with_labels=False)\n",
    "plt.title('Author communities by color')\n",
    "plt.show()"
   ]
  },
  {
   "cell_type": "code",
   "execution_count": null,
   "metadata": {},
   "outputs": [],
   "source": []
  }
 ],
 "metadata": {
  "kernelspec": {
   "display_name": "env",
   "language": "python",
   "name": "python3"
  },
  "language_info": {
   "codemirror_mode": {
    "name": "ipython",
    "version": 3
   },
   "file_extension": ".py",
   "mimetype": "text/x-python",
   "name": "python",
   "nbconvert_exporter": "python",
   "pygments_lexer": "ipython3",
   "version": "3.10.6"
  },
  "orig_nbformat": 4
 },
 "nbformat": 4,
 "nbformat_minor": 2
}
