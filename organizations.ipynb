{
 "cells": [
  {
   "cell_type": "code",
   "execution_count": null,
   "metadata": {},
   "outputs": [],
   "source": [
    "import numpy as np\n",
    "import pandas\n",
    "import matplotlib.pyplot as plt\n",
    "import networkx as nx"
   ]
  },
  {
   "cell_type": "code",
   "execution_count": null,
   "metadata": {},
   "outputs": [],
   "source": [
    "# Load data\n",
    "data = pandas.read_csv('authors_complete.csv')\n",
    "pubs = pandas.read_csv('publications.csv')"
   ]
  },
  {
   "cell_type": "code",
   "execution_count": null,
   "metadata": {},
   "outputs": [],
   "source": [
    "# Generate organization information\n",
    "df = data[['name', 'org']]\n",
    "authors = {}\n",
    "for author in df.itertuples():\n",
    "    authors[author.name] = author.org\n",
    "print(authors)"
   ]
  },
  {
   "cell_type": "code",
   "execution_count": null,
   "metadata": {},
   "outputs": [],
   "source": [
    "# Generate edges\n",
    "import ast\n",
    "edges = {}\n",
    "missing_persons = set()\n",
    "for pub in pubs.itertuples():\n",
    "    orgs = set()\n",
    "    pub_authors = ast.literal_eval(pub.authors)\n",
    "    try:\n",
    "        for author in pub_authors:\n",
    "            orgs.add(authors[author])\n",
    "    except KeyError:\n",
    "        missing_persons.add(author)\n",
    "    pairs = set()\n",
    "    for a in orgs:\n",
    "        for b in orgs:\n",
    "            if a == b:\n",
    "                continue\n",
    "            pairs.add((a,b))\n",
    "    for pair in pairs:\n",
    "        if pair in edges.keys():\n",
    "            edges[pair] += 1 \n",
    "        elif pair[::-1] in edges.keys():\n",
    "            edges[pair[::-1]] += 1\n",
    "        else:\n",
    "            edges[pair] = 1\n",
    "print(\"Found edges for\", len(edges.keys()), \"organizations\")\n",
    "print(\"Missing persons\", len(missing_persons))\n",
    "print(edges)\n"
   ]
  },
  {
   "cell_type": "code",
   "execution_count": null,
   "metadata": {},
   "outputs": [],
   "source": [
    "# Generate adjancency matrix\n",
    "x = set()\n",
    "for pair in edges.keys():\n",
    "    a,b = pair\n",
    "    x.add(a)\n",
    "    x.add(b)\n",
    "\n",
    "x = list(x)\n",
    "side = len(x)\n",
    "matrix = np.zeros((side, side))\n",
    "print(x)\n",
    "for i, row in enumerate(matrix):\n",
    "    for j, col in enumerate(row):\n",
    "        pair = (x[i], x[j])\n",
    "        if pair in edges.keys():\n",
    "            matrix[i][j] = edges[pair]\n",
    "        if pair[::-1] in edges.keys():\n",
    "            matrix[i][j] = edges[pair[::-1]]\n",
    "adj_matrix = pandas.DataFrame(matrix, x, x)\n",
    "\n",
    "print(adj_matrix)\n",
    "adj_matrix.to_excel('org_matrix.xlsx')"
   ]
  },
  {
   "cell_type": "code",
   "execution_count": null,
   "metadata": {},
   "outputs": [],
   "source": [
    "# Generate tuples\n",
    "tuples = []\n",
    "nodes = set()\n",
    "for pair, weight in edges.items():\n",
    "    a,b = pair\n",
    "    nodes.add(a)\n",
    "    nodes.add(b)\n",
    "    tuples.append((a,b,weight))\n",
    "# Create graph\n",
    "graph = nx.Graph()\n",
    "graph.add_nodes_from(list(nodes))\n",
    "graph.add_weighted_edges_from(tuples)"
   ]
  },
  {
   "cell_type": "code",
   "execution_count": null,
   "metadata": {},
   "outputs": [],
   "source": [
    "# Print key characteristics\n",
    "__length = len(graph.nodes)\n",
    "__connected = [x for x in nx.connected.connected_components(graph)]\n",
    "__cent = nx.betweenness_centrality(graph)\n",
    "_max_cent = max(__cent.values())\n",
    "_inf_node = [x for x in __cent if __cent[x] == _max_cent]\n",
    "__short = [max(j.values()) for (i,j) in nx.shortest_path_length(graph)]\n",
    "print(graph)\n",
    "print('Degree centrality {:.2f}'.format(sum(nx.degree_centrality(graph).values()) / __length))\n",
    "print('Closeness {:.2f}'.format(sum(nx.closeness_centrality(graph).values()) / __length))\n",
    "print('Betweenness {:.2f}'.format(sum(nx.betweenness_centrality(graph).values()) / __length))\n",
    "print('Clustering coefficient {:.2f}'.format( sum(nx.clustering(graph).values()) / __length))\n",
    "print('Connected components', len(__connected))\n",
    "print('Diameter', max(__short))\n",
    "print('Average shortest path length {:.2f}'.format(sum(__short) / len(__short)))\n",
    "print('Most influential node', _inf_node[0])\n",
    "# diameter, pathlength, clustering coefficient, connected components"
   ]
  },
  {
   "cell_type": "code",
   "execution_count": null,
   "metadata": {},
   "outputs": [],
   "source": [
    "# Draw graph\n",
    "pos = nx.kamada_kawai_layout(graph, scale=6)\n",
    "nx.draw(graph, pos=pos, with_labels=False)\n",
    "plt.title(\"Organizations network\")"
   ]
  },
  {
   "cell_type": "code",
   "execution_count": null,
   "metadata": {},
   "outputs": [],
   "source": [
    "# Generate communities\n",
    "import itertools\n",
    "comp = nx.community.girvan_newman(graph)\n",
    "limited = itertools.takewhile(lambda x: len(x) <= 100, comp)\n",
    "communities = [ list(x) for x in next(comp)]\n",
    "singles = []\n",
    "multis = []\n",
    "for com in communities:\n",
    "    if len(com) == 1:\n",
    "        singles.append(com[0])\n",
    "    else:\n",
    "        multis.append(com)\n",
    "print('Singles', len(singles), ', Multis', len(multis))\n",
    "d = [len(x) for x in multis]\n",
    "print(max(d), min(d))"
   ]
  },
  {
   "cell_type": "code",
   "execution_count": null,
   "metadata": {},
   "outputs": [],
   "source": [
    "import random\n",
    "color_map = []\n",
    "colors = [[254,235,226],\n",
    "[252,197,192],\n",
    "[250,159,181],\n",
    "[247,104,161],\n",
    "[221,52,151],\n",
    "[174,1,126],\n",
    "[122,1,119]]\n",
    "colors = [[x / 255 for x in y] for y in colors]\n",
    "for node in graph:\n",
    "    if node in singles:\n",
    "        color_map.append('gray')\n",
    "    else:\n",
    "        for i, m in enumerate(multis):\n",
    "            if node in m:\n",
    "                color_map.append(colors[i])\n",
    "layout = nx.spring_layout(graph)\n",
    "label = nx.draw_networkx_labels(graph, pos=layout, font_size=5)\n",
    "plt.title('Organization communities by color, spring layout')\n",
    "nx.draw(graph, node_color=color_map, pos=layout)\n",
    "plt.show()"
   ]
  },
  {
   "cell_type": "code",
   "execution_count": null,
   "metadata": {},
   "outputs": [],
   "source": [
    "label = nx.draw_networkx_labels(graph, pos=nx.kamada_kawai_layout(graph), font_size=5)\n",
    "nx.draw(graph, node_color=color_map, pos=nx.kamada_kawai_layout(graph))\n",
    "plt.title('Organization communities by color, Kamada Kawai layout')"
   ]
  },
  {
   "cell_type": "code",
   "execution_count": null,
   "metadata": {},
   "outputs": [],
   "source": [
    "# Partition quality\n",
    "print(\"Graph modularity {:.2f}\".format(nx.community.modularity(graph, communities)))\n",
    "print('Graph partition quality: Coverage {0:.2f}, Performance {1:.2f}'.format(*nx.community.partition_quality(graph, communities)))"
   ]
  }
 ],
 "metadata": {
  "kernelspec": {
   "display_name": "env",
   "language": "python",
   "name": "python3"
  },
  "language_info": {
   "codemirror_mode": {
    "name": "ipython",
    "version": 3
   },
   "file_extension": ".py",
   "mimetype": "text/x-python",
   "name": "python",
   "nbconvert_exporter": "python",
   "pygments_lexer": "ipython3",
   "version": "3.10.6"
  },
  "orig_nbformat": 4
 },
 "nbformat": 4,
 "nbformat_minor": 2
}
