{
 "cells": [
  {
   "cell_type": "code",
   "execution_count": null,
   "metadata": {},
   "outputs": [],
   "source": [
    "import numpy as np\n",
    "import pandas\n",
    "import matplotlib.pyplot as plt\n",
    "import networkx as nx\n",
    "import requests\n",
    "from bs4 import BeautifulSoup"
   ]
  },
  {
   "cell_type": "code",
   "execution_count": null,
   "metadata": {},
   "outputs": [],
   "source": [
    "# Load data\n",
    "data = pandas.read_csv('publications.csv')"
   ]
  },
  {
   "cell_type": "code",
   "execution_count": null,
   "metadata": {},
   "outputs": [],
   "source": [
    "# Parse unique authors\n",
    "import ast \n",
    "authors = data['authors']\n",
    "pubs = [x for x in data['title']]\n",
    "authors = [ast.literal_eval(x) for x in authors.values]\n",
    "unique = set()\n",
    "for author_list in authors:\n",
    "    for author in author_list:\n",
    "        unique.add(author)\n",
    "print(\"Found\", len(unique), 'unique authors')\n",
    "print(\"Found\", len(pubs), 'unique pubs')"
   ]
  },
  {
   "cell_type": "code",
   "execution_count": null,
   "metadata": {},
   "outputs": [],
   "source": [
    "import os\n",
    "headers = {'User-Agent':'Mozilla/5.0 (Macintosh; Intel Mac OS X 10_11_2) AppleWebKit/601.3.9 (KHTML, like Gecko) Version/9.0.2 Safari/601.3.9'}\n",
    "base = \"https://scholar.google.com\"\n",
    "author_urls = []\n",
    "for index, pub in enumerate(pubs):\n",
    "    print('Fetching pub', index)\n",
    "    url = f'https://dl.acm.org/action/doSearch?fillQuickSearch=false&target=advanced&expand=dl&field1=Title&text1={pub}'\n",
    "    response = requests.get(url)\n",
    "    soup = BeautifulSoup(response.text)\n",
    "    for entry in soup.find_all('div', attrs={\"class\": 'issue-item__content'}):\n",
    "        try:\n",
    "            title = entry.find('h5', attrs={'class': 'issue-item__title'})\n",
    "            authors = entry.find('ul', attrs={'class': 'rlist--inline'})\n",
    "            authors = authors.find_all('a')\n",
    "            author_urls.append({'title': title.text, 'authors': [(author.text, author.get('href')) for author in authors]})\n",
    "            break\n",
    "        except Exception as e:\n",
    "            print(e)\n",
    "print(author_urls)"
   ]
  },
  {
   "cell_type": "code",
   "execution_count": null,
   "metadata": {},
   "outputs": [],
   "source": [
    "d = pandas.DataFrame(author_urls)\n",
    "print(d)\n",
    "d.to_csv('authors.csv')"
   ]
  },
  {
   "cell_type": "code",
   "execution_count": null,
   "metadata": {},
   "outputs": [],
   "source": []
  }
 ],
 "metadata": {
  "kernelspec": {
   "display_name": "env",
   "language": "python",
   "name": "python3"
  },
  "language_info": {
   "codemirror_mode": {
    "name": "ipython",
    "version": 3
   },
   "file_extension": ".py",
   "mimetype": "text/x-python",
   "name": "python",
   "nbconvert_exporter": "python",
   "pygments_lexer": "ipython3",
   "version": "3.10.6"
  },
  "orig_nbformat": 4
 },
 "nbformat": 4,
 "nbformat_minor": 2
}
