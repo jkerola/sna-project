{
 "cells": [
  {
   "cell_type": "code",
   "execution_count": null,
   "metadata": {},
   "outputs": [],
   "source": [
    "import numpy as np\n",
    "import pandas\n",
    "import networkx as nx\n",
    "import matplotlib.pyplot as plt"
   ]
  },
  {
   "cell_type": "code",
   "execution_count": null,
   "metadata": {},
   "outputs": [],
   "source": [
    "# Load publications\n",
    "data = pandas.read_csv('publications.csv')"
   ]
  },
  {
   "cell_type": "code",
   "execution_count": null,
   "metadata": {},
   "outputs": [],
   "source": [
    "# Calculate histogram values\n",
    "years = [ x for x in range(2000,2024)]\n",
    "counts = []\n",
    "for year in years:\n",
    "    pubs = data[data['year'] == year]\n",
    "    counts.append(len(pubs))"
   ]
  },
  {
   "cell_type": "code",
   "execution_count": null,
   "metadata": {},
   "outputs": [],
   "source": [
    "# Publication histogram\n",
    "fig = plt.figure()\n",
    "fig.add_subplot(111)\n",
    "plt.title('Publication histogram')\n",
    "plt.xlabel('Year')\n",
    "plt.ylabel('Number of publications')\n",
    "plt.bar(years, counts)"
   ]
  },
  {
   "cell_type": "code",
   "execution_count": null,
   "metadata": {},
   "outputs": [],
   "source": [
    "# Instantiate lists\n",
    "import ast\n",
    "counts = {}\n",
    "sub_counts = {}\n",
    "topics = data.main_topic\n",
    "for topic in topics:\n",
    "    n = topic.split('.')[0]\n",
    "    counts[n] = np.zeros(len(years))\n",
    "sub_topics = data.all_topics\n",
    "for topic in sub_topics[1:]:\n",
    "    topic = ast.literal_eval(topic) # Evil string hacking\n",
    "    for n in topic:\n",
    "        n = n.split('.')[0]\n",
    "        sub_counts[n] = np.zeros(len(years))\n",
    "\n",
    "print(sub_counts.keys())"
   ]
  },
  {
   "cell_type": "code",
   "execution_count": null,
   "metadata": {},
   "outputs": [],
   "source": [
    "# Generate counters for topics\n",
    "for index, year in enumerate(years):\n",
    "    pubs = data[data['year'] == year]\n",
    "    topics = pubs.main_topic\n",
    "    sub_topics = pubs.all_topics\n",
    "    for topic in topics: \n",
    "        n = topic.split('.')[0]\n",
    "        counts[n][index] += 1\n",
    "    for topic in sub_topics[1:]:\n",
    "        topic = ast.literal_eval(topic) # Evil string hacking\n",
    "        for n in topic:\n",
    "            n = n.split('.')[0]\n",
    "            sub_counts[n][index] += 1\n",
    "\n",
    "_del = []\n",
    "for key, count in sub_counts.items():\n",
    "    if sum(count) == 0:\n",
    "        _del.append(key)\n",
    "\n",
    "for key in _del:\n",
    "   del sub_counts[key]\n",
    "\n",
    "\n",
    "print(sub_counts)"
   ]
  },
  {
   "cell_type": "code",
   "execution_count": null,
   "metadata": {},
   "outputs": [],
   "source": [
    "# Plot main topics\n",
    "fig = plt.figure()\n",
    "\n",
    "bottom = np.zeros(len(years))\n",
    "\n",
    "fig, ax = plt.subplots() \n",
    "for topic, count in counts.items():\n",
    "    p = ax.bar(years, count, label=topic)\n",
    "    bottom += count \n",
    "ax.set_title('Primary topics per year')\n",
    "ax.legend(loc='upper right', bbox_to_anchor=(1.35, 1))\n",
    "plt.show()"
   ]
  },
  {
   "cell_type": "code",
   "execution_count": null,
   "metadata": {},
   "outputs": [],
   "source": [
    "# Plot all topics\n",
    "fig, ax = plt.subplots()\n",
    "bottom = np.zeros(len(years))\n",
    "for topic, counts in sub_counts.items():\n",
    "    p = ax.bar(years, counts, label=topic)\n",
    "    bottom += counts\n",
    "ax.set_title('Secondary topics per year')\n",
    "ax.legend(loc='upper left', bbox_to_anchor=(1, 1.1))\n",
    "plt.show()"
   ]
  },
  {
   "cell_type": "code",
   "execution_count": null,
   "metadata": {},
   "outputs": [],
   "source": []
  }
 ],
 "metadata": {
  "kernelspec": {
   "display_name": "env",
   "language": "python",
   "name": "python3"
  },
  "language_info": {
   "codemirror_mode": {
    "name": "ipython",
    "version": 3
   },
   "file_extension": ".py",
   "mimetype": "text/x-python",
   "name": "python",
   "nbconvert_exporter": "python",
   "pygments_lexer": "ipython3",
   "version": "3.10.6"
  },
  "orig_nbformat": 4
 },
 "nbformat": 4,
 "nbformat_minor": 2
}
