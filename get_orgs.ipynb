{
 "cells": [
  {
   "cell_type": "code",
   "execution_count": null,
   "metadata": {},
   "outputs": [],
   "source": [
    "import numpy as np\n",
    "import pandas\n",
    "import matplotlib.pyplot as plt\n",
    "import networkx as nx\n",
    "import requests\n",
    "from bs4 import BeautifulSoup"
   ]
  },
  {
   "cell_type": "code",
   "execution_count": null,
   "metadata": {},
   "outputs": [],
   "source": [
    "# Load data\n",
    "data = pandas.read_csv('authors.csv')"
   ]
  },
  {
   "cell_type": "code",
   "execution_count": null,
   "metadata": {},
   "outputs": [],
   "source": [
    "# Parse unique authors\n",
    "import ast\n",
    "from selenium import webdriver\n",
    "from selenium.webdriver.chrome.options import Options\n",
    "\n",
    "opts = Options()\n",
    "opts.add_argument('--headless')\n",
    "driver = webdriver.Chrome(options=opts)\n",
    "base = \"https://dl.acm.org\"\n",
    "url = \"\"\n",
    "authors = []\n",
    "\n",
    "for row in data.itertuples():\n",
    "    auths = ast.literal_eval(row.authors)\n",
    "    for pair in auths:\n",
    "        name, profile = pair\n",
    "        url = base + profile\n",
    "        print(url)\n",
    "        driver.get(url)\n",
    "        soup = BeautifulSoup(driver.page_source)\n",
    "        for entry in soup.find_all('ul', attrs={'class': \"list-of-institutions\"}):\n",
    "            try:\n",
    "                org = entry.find('a', attrs={'class': 'link'})\n",
    "                print(org.text)\n",
    "                authors.append({'name': name, 'org': org.text, 'url': url, 'pub': row.title})\n",
    "                break\n",
    "            except Exception as e:\n",
    "                print(e)\n",
    "\n",
    "driver.quit()"
   ]
  },
  {
   "cell_type": "code",
   "execution_count": null,
   "metadata": {},
   "outputs": [],
   "source": [
    "d = pandas.DataFrame(authors)\n",
    "print(d)\n",
    "d.to_csv('authors_complete.csv')"
   ]
  },
  {
   "cell_type": "code",
   "execution_count": null,
   "metadata": {},
   "outputs": [],
   "source": []
  }
 ],
 "metadata": {
  "kernelspec": {
   "display_name": "env",
   "language": "python",
   "name": "python3"
  },
  "language_info": {
   "codemirror_mode": {
    "name": "ipython",
    "version": 3
   },
   "file_extension": ".py",
   "mimetype": "text/x-python",
   "name": "python",
   "nbconvert_exporter": "python",
   "pygments_lexer": "ipython3",
   "version": "3.10.6"
  },
  "orig_nbformat": 4
 },
 "nbformat": 4,
 "nbformat_minor": 2
}
